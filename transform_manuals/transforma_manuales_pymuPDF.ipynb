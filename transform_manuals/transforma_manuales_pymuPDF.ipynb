{
 "cells": [
  {
   "cell_type": "markdown",
   "metadata": {},
   "source": [
    "## Transforma Manuales de Termonorte\n",
    "\n",
    "Este libro de trabajo transforma los manuales de los motores generadores de Termonorte, en las siguientes etapas:\n",
    "* Extrae todos lo bloques de texto\n",
    "* Filtra el lenguaje inglés y excluye el Koreano\n",
    "* Guarda en formato PDF el manual simplificado, sin tablas ni gráficas\n",
    "\n",
    "Desarrollado por:  \n",
    "HEPTAGON GenAI | AIML  \n",
    "Carlos Gorricho  \n",
    "cel: +57 314 771 0660  \n",
    "email: cgorricho@heptagongroup.co  "
   ]
  },
  {
   "cell_type": "code",
   "execution_count": 62,
   "metadata": {},
   "outputs": [
    {
     "data": {
      "text/plain": [
       "datetime.datetime(2024, 7, 18, 17, 44, 57, 103166)"
      ]
     },
     "execution_count": 62,
     "metadata": {},
     "output_type": "execute_result"
    }
   ],
   "source": [
    "from datetime import datetime   # para implmentar el cronómetro\n",
    "\n",
    "start = datetime.now()\n",
    "start"
   ]
  },
  {
   "cell_type": "markdown",
   "metadata": {},
   "source": [
    "### Importa dependencias"
   ]
  },
  {
   "cell_type": "code",
   "execution_count": 4,
   "metadata": {},
   "outputs": [],
   "source": [
    "# convierte el documento en PDF a txt con librería PyMuPDF\n",
    "import pymupdf\n",
    "from multi_column import column_boxes           # importa función column_boxes\n",
    "import regex\n",
    "import os\n"
   ]
  },
  {
   "cell_type": "markdown",
   "metadata": {},
   "source": [
    "### Abre manual de interés"
   ]
  },
  {
   "cell_type": "code",
   "execution_count": 14,
   "metadata": {},
   "outputs": [
    {
     "data": {
      "text/plain": [
       "['VOLUME 1 - HiMSEN INSTRUCTION BOOK VOLUME - I_unlocked.pdf',\n",
       " 'VOLUME 10 - ELECTRICAL & CONTROL - I_unlocked.pdf',\n",
       " 'VOLUME 2 - HiMSEN INSTRUCTION BOOK VOLUME - II-desbloqueado.pdf',\n",
       " 'VOLUME 3 - HiMSEN INSTRUCTION BOOK VOLUME - III-desbloqueado.pdf',\n",
       " 'VOLUME 4 - HiMSEN INSTRUCTION BOOK VOLUME - IV_unlocked (1).pdf',\n",
       " 'VOLUME 6 - MECHANICAL EQUIPMENT - II_unlocked.pdf',\n",
       " 'VOLUME 7 - MECHANICAL EQUIPMENT - III_unlocked.pdf',\n",
       " 'VOLUME 8 - MECHANICAL EQUIPMENT - IV_unlocked.pdf',\n",
       " 'VOLUME 9 - MECHANICAL EQUIPMENT - V_unlocked.pdf']"
      ]
     },
     "execution_count": 14,
     "metadata": {},
     "output_type": "execute_result"
    }
   ],
   "source": [
    "manuales = os.listdir(r\"C:\\\\Users\\\\CarlosGorricho(ext)\\Documents\\\\TNAI_chatbot - GPT 4o\\\\manuales\\\\01 - originales - ingles koreano\")\n",
    "manuales.pop(0)\n",
    "manuales"
   ]
  },
  {
   "cell_type": "code",
   "execution_count": 17,
   "metadata": {},
   "outputs": [
    {
     "data": {
      "text/plain": [
       "'VOLUME 1 '"
      ]
     },
     "execution_count": 17,
     "metadata": {},
     "output_type": "execute_result"
    }
   ],
   "source": [
    "manuales[0].split('-')[0]"
   ]
  },
  {
   "cell_type": "code",
   "execution_count": null,
   "metadata": {},
   "outputs": [],
   "source": [
    "for manual in manuales:\n",
    "    doc = pymupdf.open(manual)\n",
    "    paginas = [doc[i] for i in range(len(doc))]\n",
    "\n",
    "    cont = 0\n",
    "    text = ''\n",
    "    iterador = paginas\n",
    "\n",
    "    for page in iterador:\n",
    "        boxes = column_boxes(page)\n",
    "        cont += 1\n",
    "        manual_name = manual.split('-')[0]\n",
    "        text += f\"\\n{manual_name}- Pag {cont}\\n\"\n",
    "        for rect in boxes:\n",
    "            box_text = page.get_text(clip=rect, sort=True)\n",
    "            box_text_clean = regex.sub(\"\\\\n\", '', box_text)\n",
    "            text += box_text_clean\n",
    "            text += '\\n\\n'\n",
    "        text += \"-\" * 80"
   ]
  },
  {
   "cell_type": "code",
   "execution_count": null,
   "metadata": {},
   "outputs": [],
   "source": []
  },
  {
   "cell_type": "code",
   "execution_count": null,
   "metadata": {},
   "outputs": [],
   "source": []
  },
  {
   "cell_type": "code",
   "execution_count": null,
   "metadata": {},
   "outputs": [],
   "source": []
  },
  {
   "cell_type": "code",
   "execution_count": null,
   "metadata": {},
   "outputs": [],
   "source": []
  },
  {
   "cell_type": "code",
   "execution_count": null,
   "metadata": {},
   "outputs": [],
   "source": []
  },
  {
   "cell_type": "code",
   "execution_count": 64,
   "metadata": {},
   "outputs": [],
   "source": [
    "doc = pymupdf.open('VOLUME 1 - HiMSEN INSTRUCTION BOOK VOLUME - I.pdf')\n",
    "\n",
    "algunas_paginas = [doc[i] for i in range(0, 51, 1)]\n",
    "paginas = [doc[i] for i in range(len(doc))]"
   ]
  },
  {
   "cell_type": "markdown",
   "metadata": {},
   "source": [
    "### Extrae todo el texto"
   ]
  },
  {
   "cell_type": "code",
   "execution_count": 65,
   "metadata": {},
   "outputs": [],
   "source": [
    "cont = 0\n",
    "text = ''\n",
    "iterador = paginas\n",
    "\n",
    "for page in iterador:\n",
    "    boxes = column_boxes(page)\n",
    "    cont += 1\n",
    "    # print(f'Pag {cont}\\n')\n",
    "    text += f\"\\nManual 1 - Pag {cont}\\n\"\n",
    "    for rect in boxes:\n",
    "        box_text = page.get_text(clip=rect, sort=True)\n",
    "        box_text_clean = regex.sub(\"\\\\n\", '', box_text)\n",
    "        # print(box_text)\n",
    "        text += box_text_clean\n",
    "        text += '\\n\\n'\n",
    "    # print(\"-\" * 80)\n",
    "    text += \"-\" * 80"
   ]
  },
  {
   "cell_type": "code",
   "execution_count": 66,
   "metadata": {},
   "outputs": [],
   "source": [
    "# text"
   ]
  },
  {
   "cell_type": "code",
   "execution_count": 67,
   "metadata": {},
   "outputs": [],
   "source": [
    "# guarda el resultado en un archivo de texto\n",
    "with open(f'raw_output_new.txt', 'w') as file:\n",
    "        file.write(text)"
   ]
  },
  {
   "cell_type": "markdown",
   "metadata": {},
   "source": [
    "**Exploración del resultado**\n",
    "\n",
    "Se realiza sobre la variable dentro de la cual se capturó el texto"
   ]
  },
  {
   "cell_type": "code",
   "execution_count": 68,
   "metadata": {},
   "outputs": [
    {
     "data": {
      "text/plain": [
       "592990"
      ]
     },
     "execution_count": 68,
     "metadata": {},
     "output_type": "execute_result"
    }
   ],
   "source": [
    "# largo total de la variable\n",
    "len(text)"
   ]
  },
  {
   "cell_type": "markdown",
   "metadata": {},
   "source": [
    "Pruebas sobre un subconjunto del texto"
   ]
  },
  {
   "cell_type": "code",
   "execution_count": 69,
   "metadata": {},
   "outputs": [],
   "source": [
    "# dividir el texto en '\\n' (salto de línea), para simular archivo de texto\n",
    "txt_temp = text.split('\\n')\n",
    "txt_list = [elem.strip() for elem in txt_temp]"
   ]
  },
  {
   "cell_type": "code",
   "execution_count": 70,
   "metadata": {},
   "outputs": [],
   "source": [
    "# crea una variable de prueba\n",
    "txt_test = txt_list[200:225]\n",
    "# txt_test"
   ]
  },
  {
   "cell_type": "markdown",
   "metadata": {},
   "source": [
    "Obsrvación:\n",
    "* El proceso de conversión de PDF a texto separa correctamente el texto en koreano del texto en inglés\n",
    "* En principio, en una línea no se mezclan palabras en inglés y en koreano\n",
    "* En la observación visual del manual, esto se observa en algunas líneas\n"
   ]
  },
  {
   "cell_type": "markdown",
   "metadata": {},
   "source": [
    "Utilizar [librería regex para pyton](https://docs.python.org/3/library/re.html) que permite identificar caracteres koreanos<br>"
   ]
  },
  {
   "cell_type": "code",
   "execution_count": 71,
   "metadata": {},
   "outputs": [],
   "source": [
    "# crea función que utiliza librería\n",
    "def is_korean(value):\n",
    "    if regex.search(r'(\\S*[\\u3131-\\u314e|\\u314f-\\u3163|\\uac00-\\ud7a3]+\\S*)', value):\n",
    "        return True\n",
    "    else:\n",
    "        return False"
   ]
  },
  {
   "cell_type": "markdown",
   "metadata": {},
   "source": [
    "### Corre función sobre todo el texto"
   ]
  },
  {
   "cell_type": "code",
   "execution_count": 72,
   "metadata": {},
   "outputs": [
    {
     "data": {
      "text/plain": [
       "11439"
      ]
     },
     "execution_count": 72,
     "metadata": {},
     "output_type": "execute_result"
    }
   ],
   "source": [
    "# largo de la lista de textos antes de aplicar funcióm\n",
    "len(txt_list)"
   ]
  },
  {
   "cell_type": "code",
   "execution_count": 73,
   "metadata": {},
   "outputs": [],
   "source": [
    "# invoca función sobre lista de textos\n",
    "txt_list_clean = []\n",
    "\n",
    "for i, elem in enumerate(txt_list):\n",
    "    if (not is_korean(elem)):\n",
    "        # print(f'Agregando: {elem}')\n",
    "        txt_list_clean += [elem]"
   ]
  },
  {
   "cell_type": "code",
   "execution_count": 74,
   "metadata": {},
   "outputs": [
    {
     "data": {
      "text/plain": [
       "10103"
      ]
     },
     "execution_count": 74,
     "metadata": {},
     "output_type": "execute_result"
    }
   ],
   "source": [
    "# largo de la lista de textos después de aplicar funcióm\n",
    "len(txt_list_clean)"
   ]
  },
  {
   "cell_type": "code",
   "execution_count": 76,
   "metadata": {},
   "outputs": [],
   "source": [
    "# consolida todos los textos de la lista en una sola variable\n",
    "text_clean = ' \\n'.join(txt_list_clean)\n"
   ]
  },
  {
   "cell_type": "code",
   "execution_count": 77,
   "metadata": {},
   "outputs": [
    {
     "data": {
      "text/plain": [
       "425765"
      ]
     },
     "execution_count": 77,
     "metadata": {},
     "output_type": "execute_result"
    }
   ],
   "source": [
    "# explora el largo  de la nueva variable\n",
    "len(text_clean)"
   ]
  },
  {
   "cell_type": "code",
   "execution_count": 78,
   "metadata": {},
   "outputs": [],
   "source": [
    "# guarda el resultado en un archivo de texto\n",
    "with open(f'clean_output_new.txt', 'w') as file:\n",
    "        file.write(text_clean)"
   ]
  },
  {
   "cell_type": "code",
   "execution_count": null,
   "metadata": {},
   "outputs": [],
   "source": []
  },
  {
   "cell_type": "markdown",
   "metadata": {},
   "source": [
    "Para cronómetro"
   ]
  },
  {
   "cell_type": "code",
   "execution_count": 79,
   "metadata": {},
   "outputs": [
    {
     "name": "stdout",
     "output_type": "stream",
     "text": [
      "Tiempo transcurrido: 0:57:42.163097\n"
     ]
    }
   ],
   "source": [
    "end = datetime.now()\n",
    "tiempo = end - start\n",
    "print(f'Tiempo transcurrido: {tiempo}')"
   ]
  }
 ],
 "metadata": {
  "kernelspec": {
   "display_name": "lang-py310",
   "language": "python",
   "name": "python3"
  },
  "language_info": {
   "codemirror_mode": {
    "name": "ipython",
    "version": 3
   },
   "file_extension": ".py",
   "mimetype": "text/x-python",
   "name": "python",
   "nbconvert_exporter": "python",
   "pygments_lexer": "ipython3",
   "version": "3.11.7"
  },
  "orig_nbformat": 4
 },
 "nbformat": 4,
 "nbformat_minor": 2
}
