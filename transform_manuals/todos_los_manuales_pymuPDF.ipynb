{
 "cells": [
  {
   "cell_type": "markdown",
   "metadata": {},
   "source": [
    "## Transforma Manuales de Termonorte\n",
    "\n",
    "Este libro de trabajo transforma los manuales de los motores generadores de Termonorte, en las siguientes etapas:\n",
    "* Extrae todos lo bloques de texto\n",
    "* Filtra el lenguaje inglés y excluye el Koreano\n",
    "* Guarda en formato PDF el manual simplificado, sin tablas ni gráficas\n",
    "\n",
    "Desarrollado por:  \n",
    "HEPTAGON GenAI | AIML  \n",
    "Carlos Gorricho  \n",
    "cel: +57 314 771 0660  \n",
    "email: cgorricho@heptagongroup.co  "
   ]
  },
  {
   "cell_type": "code",
   "execution_count": 22,
   "metadata": {},
   "outputs": [
    {
     "data": {
      "text/plain": [
       "datetime.datetime(2024, 7, 19, 12, 43, 1, 749754)"
      ]
     },
     "execution_count": 22,
     "metadata": {},
     "output_type": "execute_result"
    }
   ],
   "source": [
    "from datetime import datetime   # para implmentar el cronómetro\n",
    "\n",
    "start = datetime.now()\n",
    "start"
   ]
  },
  {
   "cell_type": "markdown",
   "metadata": {},
   "source": [
    "### Importa dependencias"
   ]
  },
  {
   "cell_type": "code",
   "execution_count": 23,
   "metadata": {},
   "outputs": [],
   "source": [
    "# convierte el documento en PDF a txt con librería PyMuPDF\n",
    "import pymupdf\n",
    "from multi_column import column_boxes           # importa función column_boxes\n",
    "import regex\n",
    "import os\n"
   ]
  },
  {
   "cell_type": "markdown",
   "metadata": {},
   "source": [
    "### Abre manual de interés"
   ]
  },
  {
   "cell_type": "code",
   "execution_count": 24,
   "metadata": {},
   "outputs": [
    {
     "data": {
      "text/plain": [
       "['VOLUME 1 - HiMSEN INSTRUCTION BOOK VOLUME - I_unlocked.pdf',\n",
       " 'VOLUME 10 - ELECTRICAL & CONTROL - I_unlocked.pdf',\n",
       " 'VOLUME 2 - HiMSEN INSTRUCTION BOOK VOLUME - II-desbloqueado.pdf',\n",
       " 'VOLUME 3 - HiMSEN INSTRUCTION BOOK VOLUME - III-desbloqueado.pdf',\n",
       " 'VOLUME 4 - HiMSEN INSTRUCTION BOOK VOLUME - IV_unlocked (1).pdf',\n",
       " 'VOLUME 6 - MECHANICAL EQUIPMENT - II_unlocked.pdf',\n",
       " 'VOLUME 7 - MECHANICAL EQUIPMENT - III_unlocked.pdf',\n",
       " 'VOLUME 8 - MECHANICAL EQUIPMENT - IV_unlocked.pdf',\n",
       " 'VOLUME 9 - MECHANICAL EQUIPMENT - V_unlocked.pdf']"
      ]
     },
     "execution_count": 24,
     "metadata": {},
     "output_type": "execute_result"
    }
   ],
   "source": [
    "path = r'C:\\\\Users\\\\CarlosGorricho(ext)\\Documents\\\\TNAI_chatbot - GPT 4o\\\\manuales\\\\01 - originales - ingles koreano\\\\'\n",
    "manuales = os.listdir(path)\n",
    "manuales.pop(0)\n",
    "manuales"
   ]
  },
  {
   "cell_type": "code",
   "execution_count": 25,
   "metadata": {},
   "outputs": [],
   "source": [
    "# crea función que utiliza librería\n",
    "def is_korean(value):\n",
    "    if regex.search(r'(\\S*[\\u3131-\\u314e|\\u314f-\\u3163|\\uac00-\\ud7a3]+\\S*)', value):\n",
    "        return True\n",
    "    else:\n",
    "        return False"
   ]
  },
  {
   "cell_type": "code",
   "execution_count": 28,
   "metadata": {},
   "outputs": [
    {
     "name": "stdout",
     "output_type": "stream",
     "text": [
      "Procesando VOLUME 1\n",
      "Procesando VOLUME 10\n",
      "Procesando VOLUME 2\n",
      "Procesando VOLUME 3\n",
      "Procesando VOLUME 4\n",
      "Procesando VOLUME 6\n",
      "Procesando VOLUME 7\n",
      "Procesando VOLUME 8\n",
      "Procesando VOLUME 9\n"
     ]
    }
   ],
   "source": [
    "for manual in manuales:\n",
    "    \n",
    "    manual_name = manual.split('-')[0].strip()\n",
    "    print(f'Procesando {manual_name}')\n",
    "    \n",
    "    doc = pymupdf.open(path + manual)\n",
    "    paginas = [doc[i] for i in range(len(doc))]\n",
    "\n",
    "    cont = 0\n",
    "    text = ''\n",
    "    iterador = paginas\n",
    "\n",
    "    for page in iterador:\n",
    "        boxes = column_boxes(page)\n",
    "        cont += 1\n",
    "        text += f\"\\n{manual_name} - Pag {cont} \\n\" # agrega etiqueta \"Volume x - Page y \" con un espacio al final\n",
    "        for rect in boxes:\n",
    "            box_text = page.get_text(clip=rect, sort=True)\n",
    "            box_text_clean = regex.sub(\"\\\\n\", '', box_text)\n",
    "            text += box_text_clean\n",
    "            text += '\\n\\n'\n",
    "        text += \"-\" * 80\n",
    "\n",
    "    with open(f'{manual_name}_raw_output.txt', 'w') as file:\n",
    "        file.write(text)\n",
    "\n",
    "    txt_temp = text.split('\\n')\n",
    "    txt_list = [elem.strip() for elem in txt_temp]\n",
    "\n",
    "    txt_list_clean = []\n",
    "\n",
    "    for i, elem in enumerate(txt_list):\n",
    "        if (not is_korean(elem)):\n",
    "            # print(f'Agregando: {elem}')\n",
    "            txt_list_clean += [elem]\n",
    "\n",
    "    text_clean = ' \\n'.join(txt_list_clean)\n",
    "\n",
    "    with open(f'{manual_name}_clean_output_new.txt', 'w') as file:\n",
    "        file.write(text_clean)\n"
   ]
  },
  {
   "cell_type": "markdown",
   "metadata": {},
   "source": [
    "Para cronómetro"
   ]
  },
  {
   "cell_type": "code",
   "execution_count": 27,
   "metadata": {},
   "outputs": [
    {
     "name": "stdout",
     "output_type": "stream",
     "text": [
      "Tiempo transcurrido: 2:36:46.800841\n"
     ]
    }
   ],
   "source": [
    "end = datetime.now()\n",
    "tiempo = end - start\n",
    "print(f'Tiempo transcurrido: {tiempo}')"
   ]
  }
 ],
 "metadata": {
  "kernelspec": {
   "display_name": "lang-py310",
   "language": "python",
   "name": "python3"
  },
  "language_info": {
   "codemirror_mode": {
    "name": "ipython",
    "version": 3
   },
   "file_extension": ".py",
   "mimetype": "text/x-python",
   "name": "python",
   "nbconvert_exporter": "python",
   "pygments_lexer": "ipython3",
   "version": "3.11.7"
  },
  "orig_nbformat": 4
 },
 "nbformat": 4,
 "nbformat_minor": 2
}
